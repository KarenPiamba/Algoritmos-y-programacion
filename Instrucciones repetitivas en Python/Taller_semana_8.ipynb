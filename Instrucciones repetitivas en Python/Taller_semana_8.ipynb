{
  "cells": [
    {
      "cell_type": "markdown",
      "metadata": {
        "id": "QZ6XziVD76Jw"
      },
      "source": [
        "<h1 align=\"center\">Taller - Instrucciones repetitivas en Python</h1>\n",
        "\n",
        "Desarrolle la solucion a los siguientes problemas en Python, usando funciones y el programa correspondiente\n",
        "\n",
        "---"
      ]
    },
    {
      "cell_type": "markdown",
      "metadata": {
        "id": "uJJp2xk076J1"
      },
      "source": [
        "## Ejercicio 01\n",
        "\n",
        "Una librería ofrece dos tipos de descuentos ante la compra de un libro. Si el libro tiene un precio inferior a cien mil pesos, el descuento es del 12% del precio; pero en cualquier otro caso, el descuento asciende a un 18%.\n",
        "\n",
        "* Escriba una función que halle el precio neto de un libro (precio menos descuento) de un libro, dado el precio del libro.\n",
        "* Ahora, escriba un programa que permita leer el precio de varios libros (finalizar cuando el precio es cero o negativo) y mostrar para cada libro, el precio neto (usando la función desarrollada anteriormente)"
      ]
    },
    {
      "cell_type": "code",
      "execution_count": null,
      "metadata": {
        "id": "58mamZV176J2",
        "colab": {
          "base_uri": "https://localhost:8080/"
        },
        "outputId": "0fc456e9-9c3c-4664-e3c5-5d7eea83bedf"
      },
      "outputs": [
        {
          "name": "stdout",
          "output_type": "stream",
          "text": [
            "Ingrese precio de libro: 1\n",
            "El precio neto es:  0.88\n",
            "Ingrese precio de libro: 0\n"
          ]
        }
      ],
      "source": [
        "# Definición de la función\n",
        "def hallar_precio_neto(precio_libro:float)->float:\n",
        "  if(precio_libro<100_000):\n",
        "    precio_neto=precio_libro-(precio_libro*0.12)\n",
        "  else:\n",
        "    precio_neto=precio_libro-(precio_libro*0.18)\n",
        "  return precio_neto\n",
        "# Programa principal\n",
        "precio_libro=float(input(\"Ingrese precio de libro: \"))\n",
        "while precio_libro>0:\n",
        "  precio_neto=hallar_precio_neto(precio_libro)\n",
        "  print(\"El precio neto es: \",precio_neto)\n",
        "  precio_libro=float(input(\"Ingrese precio de libro: \"))"
      ]
    },
    {
      "cell_type": "markdown",
      "metadata": {
        "id": "jF4Qm9FE76J3"
      },
      "source": [
        "---"
      ]
    },
    {
      "cell_type": "markdown",
      "metadata": {
        "id": "weyR_q0d76J4"
      },
      "source": [
        "## Ejercicio 02\n",
        "\n",
        "Un vendedor recibe una comisión por el volumen de ventas que realice. Las reglas para asignarle la comisión al vendedor son las siguientes:\n",
        "\n",
        "Ventas | Comisión\n",
        "---|---\n",
        "Inferior a 50 mil pesos | 7% de las ventas\n",
        "Entre 50 mil y 100 mil pesos | 9% de las ventas más 5 mil pesos\n",
        "Entre 100 mil y 200 mil pesos | 11% de las ventas más 10 mil pesos\n",
        "Entre 200 mil y 500 mil pesos | 13% de las ventas más 20 mil pesos\n",
        "Más de 500 mil pesos | 15% de las ventas más 40 mil pesos\n",
        "\n",
        "* Escriba una función que recibe el valor de las ventas de un vendedor y que retorne la comisión\n",
        "* Escriba un programa que lea el valor de ventas de varios vendedores de la empresa (finalizar cuando las ventas sean negativas), y usando la función anterior, calcule la comisión y la imprima por pantalla."
      ]
    },
    {
      "cell_type": "code",
      "source": [],
      "metadata": {
        "id": "4GdwfaPRfcKw"
      },
      "execution_count": null,
      "outputs": []
    },
    {
      "cell_type": "code",
      "execution_count": null,
      "metadata": {
        "id": "kMitVJVW76J4",
        "colab": {
          "base_uri": "https://localhost:8080/"
        },
        "outputId": "62a22d70-15e7-470e-d501-2d9b5ee8bb96"
      },
      "outputs": [
        {
          "name": "stdout",
          "output_type": "stream",
          "text": [
            "Ingrese el valor de las ventas: 50000\n",
            "El valor por comision es:  9500.0\n",
            "Ingrese el valor de las ventas: 0\n"
          ]
        }
      ],
      "source": [
        "# Definición de la función\n",
        "comision_total=0\n",
        "def hallar_comision_total(ventas:float)->float:\n",
        "    if(ventas<50000):\n",
        "        comision_total=(ventas*0.07)\n",
        "    elif (ventas>=50000 and ventas<=100000):\n",
        "        comision_total=(ventas*0.09)+5000\n",
        "    elif (ventas>100000 and ventas<=200000):\n",
        "        comision_total=(ventas*0.11)+10000\n",
        "    elif (ventas>200000 and ventas<=500000):\n",
        "        comision_total=(ventas*0.13)+20000\n",
        "    elif (ventas>500000):\n",
        "        comision_total=(ventas*0.15)+40000\n",
        "    return comision_total\n",
        "# Programa principal\n",
        "ventas=float(input(\"Ingrese el valor de las ventas: \"))\n",
        "while ventas>0:\n",
        "  comision_total=hallar_comision_total(ventas)\n",
        "  print(\"El valor por comision es: \", comision_total)\n",
        "  ventas=float(input(\"Ingrese el valor de las ventas: \"))"
      ]
    },
    {
      "cell_type": "markdown",
      "metadata": {
        "id": "YWyFJrR876J4"
      },
      "source": [
        "---\n"
      ]
    },
    {
      "cell_type": "markdown",
      "metadata": {
        "id": "2IHUrLVh76J5"
      },
      "source": [
        "## Ejercicio 03\n",
        "\n",
        "Una empresa ofrece a sus empleados un salario mensual fijo, y un porcertaje de las ventas como una comisión adicional a ese salario mensual. Esta comisión se calcula de la siguiente manera: si las ventas de un empleado excede los 50 mil pesoso, la comisión será de un 12% de las ventas que están por encima de los 50 mil pesos, en otro caso no habrá comisión.\n",
        "\n",
        "* Primero, construya una función en la que dado las ventas que hizo el empleado, determine cuánto es la comisión\n",
        "* Ahora hay que hacer un programa que calcule y muestre los salarios y comisiones de todos los empleados de la empresa. Para cada empleado hay que preguntarle al usuario, el salario mensual y las ventas realizadas, y mostrar la comisión por las ventas (usando la función anterior) y el salario neto (salario más comisión). Como no sabemos cuántos empleados hay, después de mostrar esta información, debemos preguntarle al usuario si desea seguir o no."
      ]
    },
    {
      "cell_type": "code",
      "execution_count": 2,
      "metadata": {
        "id": "aTuMvKmw76J5",
        "colab": {
          "base_uri": "https://localhost:8080/"
        },
        "outputId": "c31c6665-4263-4631-e087-5b914fff0a96"
      },
      "outputs": [
        {
          "name": "stdout",
          "output_type": "stream",
          "text": [
            "Ingrese el valor del salario mensual: 1000000\n",
            "Ingrese el valor de las ventas realizadas: 51000\n",
            "Comisión por ventas: $6120.0\n",
            "Salario neto (salario + comisión): $1006120.0\n",
            "¿Desea ingresar otro empleado? (si/no): si\n",
            "Ingrese el valor del salario mensual: 10\n",
            "Ingrese el valor de las ventas realizadas: 50\n",
            "Comisión por ventas: $0\n",
            "Salario neto (salario + comisión): $10.0\n",
            "¿Desea ingresar otro empleado? (si/no): no\n"
          ]
        }
      ],
      "source": [
        "# Definición de la función\n",
        "salario_neto=0\n",
        "def calcular_comision(ventas:float,salario_base:float)->(float,float):\n",
        "    if(ventas>=50000):\n",
        "        comision=ventas*0.12\n",
        "        salario_neto=comision+salario_base\n",
        "    else:\n",
        "        comision=0\n",
        "        salario_neto=comision+salario_base\n",
        "    return comision , salario_neto\n",
        "# Programa principal\n",
        "while True:\n",
        "    salario_base=float(input(\"Ingrese el valor del salario mensual: \"))\n",
        "    ventas=float(input(\"Ingrese el valor de las ventas realizadas: \"))\n",
        "    comision, salario_neto=calcular_comision(ventas, salario_base)\n",
        "    print(f\"Comisión por ventas: ${comision}\")\n",
        "    print(f\"Salario neto (salario + comisión): ${salario_neto}\")\n",
        "    continuar = input(\"¿Desea ingresar otro empleado? (si/no): \").strip()\n",
        "    if continuar != \"si\":\n",
        "      break"
      ]
    },
    {
      "cell_type": "markdown",
      "metadata": {
        "id": "6M93ZEZh76J5"
      },
      "source": [
        "---"
      ]
    },
    {
      "cell_type": "markdown",
      "metadata": {
        "id": "ge6TBY0P76J6"
      },
      "source": [
        "## Ejercicio 04\n",
        "\n",
        "En una empresa se le paga a los trabajadores al final de cada semana de acuerdo a las reglas dadas a continuación:\n",
        "\n",
        "* Si trabajas 35 horas o menos, se le paga un valor de 15 mil pesos la hora;\n",
        "* Si trabaja más de 35 horas pero menos de 60, el valor de la hora es de 15 mil por las primeras 35 horas y de 18 mil por cada hora trabajada por encima de las 35\n",
        "* Si trabaja más de 60 horas, las primeras 35 se pagan a 15 mil, las siguiente 25 horas a 18 mil cada una y las horas horas trabajadas por encima de las 60 horas, se le paga a 25 mil pesos cada una.\n",
        "\n",
        "Vamos a buscar imprimir el salario semanal de cada uno de los empleados de la empresa. Para ello:\n",
        "\n",
        "* Escriba una función que reciba el número de horas trabajadas por un empleado y retorne el salario\n",
        "* Un programa que le pregunte al usuario el número de empleados que trabajan en la empresa, y para cada uno de esos, pregunte el número de horas trabajadas en la semana, y usando la función anterior, imprima el salario mensual de ese empleado."
      ]
    },
    {
      "cell_type": "code",
      "execution_count": 11,
      "metadata": {
        "id": "o8NultX076J6",
        "colab": {
          "base_uri": "https://localhost:8080/"
        },
        "outputId": "b5a240b0-0aa9-4ed2-f434-5b0eee33f541"
      },
      "outputs": [
        {
          "output_type": "stream",
          "name": "stdout",
          "text": [
            "Ingresa el numero de trabajadores3\n",
            "ingresa el numero de horas trabajadas25\n",
            "El salario del trabajador 1 es:375000.0\n",
            "ingresa el numero de horas trabajadas55\n",
            "El salario del trabajador 2 es:885000.0\n",
            "ingresa el numero de horas trabajadas90\n",
            "El salario del trabajador 3 es:1725000.0\n"
          ]
        }
      ],
      "source": [
        "# Definición de la función\n",
        "def calcular_salario(horas_trabajadas:float)->float:\n",
        "  if(horas_trabajadas<=35):\n",
        "    salario=horas_trabajadas*15000\n",
        "  elif (horas_trabajadas>35 and horas_trabajadas<60):\n",
        "    horas_extras=horas_trabajadas-35\n",
        "    salario=(35*15000)+(horas_extras*18000)\n",
        "  else:\n",
        "    horas_extras_1=25\n",
        "    horas_extras_2=horas_trabajadas-60\n",
        "    salario=(35*15000)+(horas_extras_1*18000)+(horas_extras_2*25000)\n",
        "  return salario\n",
        "# Programa principal\n",
        "numero_empleados=int(input(\"Ingresa el numero de trabajadores\"))\n",
        "for i in range(1, numero_empleados+1):\n",
        "  horas_trabajadas=float(input(\"ingresa el numero de horas trabajadas\"))\n",
        "  salario=calcular_salario(horas_trabajadas)\n",
        "  print(f\"El salario del trabajador {i} es:{salario}\")\n"
      ]
    }
  ],
  "metadata": {
    "colab": {
      "provenance": []
    },
    "kernelspec": {
      "display_name": "Python 3",
      "language": "python",
      "name": "python3"
    },
    "language_info": {
      "codemirror_mode": {
        "name": "ipython",
        "version": 3
      },
      "file_extension": ".py",
      "mimetype": "text/x-python",
      "name": "python",
      "nbconvert_exporter": "python",
      "pygments_lexer": "ipython3",
      "version": "3.7.7"
    }
  },
  "nbformat": 4,
  "nbformat_minor": 0
}